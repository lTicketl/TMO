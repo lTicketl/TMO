{
  "nbformat": 4,
  "nbformat_minor": 0,
  "metadata": {
    "kernelspec": {
      "display_name": "Python 3",
      "language": "python",
      "name": "python3"
    },
    "language_info": {
      "codemirror_mode": {
        "name": "ipython",
        "version": 3
      },
      "file_extension": ".py",
      "mimetype": "text/x-python",
      "name": "python",
      "nbconvert_exporter": "python",
      "pygments_lexer": "ipython3",
      "version": "3.6.6"
    },
    "colab": {
      "name": "textclassification-based-on-reviews.ipynb",
      "provenance": []
    }
  },
  "cells": [
    {
      "cell_type": "markdown",
      "metadata": {
        "id": "l-3wGMD_-5rT",
        "colab_type": "text"
      },
      "source": [
        "# Кудрявцев С.Д. ИУ5-62Б РК №2\n"
      ]
    },
    {
      "cell_type": "code",
      "metadata": {
        "id": "KpjKSf0h7YxB",
        "colab_type": "code",
        "colab": {
          "base_uri": "https://localhost:8080/",
          "height": 402
        },
        "outputId": "c6f1817c-7302-4b62-d4ed-33d4faa581ca"
      },
      "source": [
        "#Read the csv file\n",
        "import pandas as pd\n",
        "\n",
        "review=pd.read_csv('Amazon_text.csv')\n",
        "\n",
        "review['Label']=review['Label'].map({'__label__2 ':1,'__label__1 ':0}) #label column change the values 0 and 1\n",
        "review\n"
      ],
      "execution_count": 1,
      "outputs": [
        {
          "output_type": "execute_result",
          "data": {
            "text/html": [
              "<div>\n",
              "<style scoped>\n",
              "    .dataframe tbody tr th:only-of-type {\n",
              "        vertical-align: middle;\n",
              "    }\n",
              "\n",
              "    .dataframe tbody tr th {\n",
              "        vertical-align: top;\n",
              "    }\n",
              "\n",
              "    .dataframe thead th {\n",
              "        text-align: right;\n",
              "    }\n",
              "</style>\n",
              "<table border=\"1\" class=\"dataframe\">\n",
              "  <thead>\n",
              "    <tr style=\"text-align: right;\">\n",
              "      <th></th>\n",
              "      <th>Review</th>\n",
              "      <th>Label</th>\n",
              "    </tr>\n",
              "  </thead>\n",
              "  <tbody>\n",
              "    <tr>\n",
              "      <th>0</th>\n",
              "      <td>Stuning even for the non-gamer: This sound tr...</td>\n",
              "      <td>1</td>\n",
              "    </tr>\n",
              "    <tr>\n",
              "      <th>1</th>\n",
              "      <td>The best soundtrack ever to anything.: I'm re...</td>\n",
              "      <td>1</td>\n",
              "    </tr>\n",
              "    <tr>\n",
              "      <th>2</th>\n",
              "      <td>Amazing!: This soundtrack is my favorite musi...</td>\n",
              "      <td>1</td>\n",
              "    </tr>\n",
              "    <tr>\n",
              "      <th>3</th>\n",
              "      <td>Excellent Soundtrack: I truly like this sound...</td>\n",
              "      <td>1</td>\n",
              "    </tr>\n",
              "    <tr>\n",
              "      <th>4</th>\n",
              "      <td>Remember, Pull Your Jaw Off The Floor After H...</td>\n",
              "      <td>1</td>\n",
              "    </tr>\n",
              "    <tr>\n",
              "      <th>...</th>\n",
              "      <td>...</td>\n",
              "      <td>...</td>\n",
              "    </tr>\n",
              "    <tr>\n",
              "      <th>194</th>\n",
              "      <td>A Book That Is Worth a Second Look: This book...</td>\n",
              "      <td>1</td>\n",
              "    </tr>\n",
              "    <tr>\n",
              "      <th>195</th>\n",
              "      <td>Best game ever: This games makes even amazing...</td>\n",
              "      <td>1</td>\n",
              "    </tr>\n",
              "    <tr>\n",
              "      <th>196</th>\n",
              "      <td>Guitar in Absentia: With all due respect to a...</td>\n",
              "      <td>0</td>\n",
              "    </tr>\n",
              "    <tr>\n",
              "      <th>197</th>\n",
              "      <td>Stiff and Smells like drying paint: You get w...</td>\n",
              "      <td>0</td>\n",
              "    </tr>\n",
              "    <tr>\n",
              "      <th>198</th>\n",
              "      <td>Review of Pillow: This was a joke. I am sendi...</td>\n",
              "      <td>0</td>\n",
              "    </tr>\n",
              "  </tbody>\n",
              "</table>\n",
              "<p>199 rows × 2 columns</p>\n",
              "</div>"
            ],
            "text/plain": [
              "                                                Review  Label\n",
              "0     Stuning even for the non-gamer: This sound tr...      1\n",
              "1     The best soundtrack ever to anything.: I'm re...      1\n",
              "2     Amazing!: This soundtrack is my favorite musi...      1\n",
              "3     Excellent Soundtrack: I truly like this sound...      1\n",
              "4     Remember, Pull Your Jaw Off The Floor After H...      1\n",
              "..                                                 ...    ...\n",
              "194   A Book That Is Worth a Second Look: This book...      1\n",
              "195   Best game ever: This games makes even amazing...      1\n",
              "196   Guitar in Absentia: With all due respect to a...      0\n",
              "197   Stiff and Smells like drying paint: You get w...      0\n",
              "198   Review of Pillow: This was a joke. I am sendi...      0\n",
              "\n",
              "[199 rows x 2 columns]"
            ]
          },
          "metadata": {
            "tags": []
          },
          "execution_count": 1
        }
      ]
    },
    {
      "cell_type": "code",
      "metadata": {
        "id": "wa-bEbOz7YxI",
        "colab_type": "code",
        "colab": {
          "base_uri": "https://localhost:8080/",
          "height": 402
        },
        "outputId": "70ee6241-8091-4f22-e53c-c9d3cf69723e"
      },
      "source": [
        "#Spliting the Data\n",
        "from sklearn.model_selection import train_test_split\n",
        "y=review['Label']\n",
        "review.drop(columns='Label',axis=1,inplace=True)\n",
        "x_train,x_test,y_train,y_test=train_test_split(review,y,random_state=42,test_size=0.2)\n",
        "x_train\n"
      ],
      "execution_count": 2,
      "outputs": [
        {
          "output_type": "execute_result",
          "data": {
            "text/html": [
              "<div>\n",
              "<style scoped>\n",
              "    .dataframe tbody tr th:only-of-type {\n",
              "        vertical-align: middle;\n",
              "    }\n",
              "\n",
              "    .dataframe tbody tr th {\n",
              "        vertical-align: top;\n",
              "    }\n",
              "\n",
              "    .dataframe thead th {\n",
              "        text-align: right;\n",
              "    }\n",
              "</style>\n",
              "<table border=\"1\" class=\"dataframe\">\n",
              "  <thead>\n",
              "    <tr style=\"text-align: right;\">\n",
              "      <th></th>\n",
              "      <th>Review</th>\n",
              "    </tr>\n",
              "  </thead>\n",
              "  <tbody>\n",
              "    <tr>\n",
              "      <th>183</th>\n",
              "      <td>Just a few.: These are the handful of tracks ...</td>\n",
              "    </tr>\n",
              "    <tr>\n",
              "      <th>38</th>\n",
              "      <td>Doesn't work on a Mac: It clearly says on lin...</td>\n",
              "    </tr>\n",
              "    <tr>\n",
              "      <th>24</th>\n",
              "      <td>i liked this album more then i thought i woul...</td>\n",
              "    </tr>\n",
              "    <tr>\n",
              "      <th>142</th>\n",
              "      <td>Not Patterns - but Detailed Sketches: Althoug...</td>\n",
              "    </tr>\n",
              "    <tr>\n",
              "      <th>141</th>\n",
              "      <td>A Contemporary Fairytale Sure to Delight!: Wh...</td>\n",
              "    </tr>\n",
              "    <tr>\n",
              "      <th>...</th>\n",
              "      <td>...</td>\n",
              "    </tr>\n",
              "    <tr>\n",
              "      <th>106</th>\n",
              "      <td>Very authentic: This is my first encounter wi...</td>\n",
              "    </tr>\n",
              "    <tr>\n",
              "      <th>14</th>\n",
              "      <td>Awful beyond belief!: I feel I have to write ...</td>\n",
              "    </tr>\n",
              "    <tr>\n",
              "      <th>92</th>\n",
              "      <td>OMG Soulwax owns: wow - this is like the most...</td>\n",
              "    </tr>\n",
              "    <tr>\n",
              "      <th>179</th>\n",
              "      <td>Yet another unsubstantiated case....: While I...</td>\n",
              "    </tr>\n",
              "    <tr>\n",
              "      <th>102</th>\n",
              "      <td>YES!!!: When I got this book, I wasn't expect...</td>\n",
              "    </tr>\n",
              "  </tbody>\n",
              "</table>\n",
              "<p>159 rows × 1 columns</p>\n",
              "</div>"
            ],
            "text/plain": [
              "                                                Review\n",
              "183   Just a few.: These are the handful of tracks ...\n",
              "38    Doesn't work on a Mac: It clearly says on lin...\n",
              "24    i liked this album more then i thought i woul...\n",
              "142   Not Patterns - but Detailed Sketches: Althoug...\n",
              "141   A Contemporary Fairytale Sure to Delight!: Wh...\n",
              "..                                                 ...\n",
              "106   Very authentic: This is my first encounter wi...\n",
              "14    Awful beyond belief!: I feel I have to write ...\n",
              "92    OMG Soulwax owns: wow - this is like the most...\n",
              "179   Yet another unsubstantiated case....: While I...\n",
              "102   YES!!!: When I got this book, I wasn't expect...\n",
              "\n",
              "[159 rows x 1 columns]"
            ]
          },
          "metadata": {
            "tags": []
          },
          "execution_count": 2
        }
      ]
    },
    {
      "cell_type": "code",
      "metadata": {
        "id": "lKCzEwfi7Yxa",
        "colab_type": "code",
        "colab": {}
      },
      "source": [
        "# performed tokenization,stopwords removal,stemming/lemmatization\n",
        "from nltk.tokenize import RegexpTokenizer\n",
        "from nltk.corpus import stopwords\n",
        "from nltk.stem import WordNetLemmatizer,PorterStemmer\n",
        "\n",
        "tokenizer=RegexpTokenizer(r'\\w+')\n",
        "lemmatizer=WordNetLemmatizer()\n",
        "stemmer=PorterStemmer()\n",
        "\n",
        "def preprocessing(review):\n",
        "    \n",
        "    final_tokens=' '\n",
        "    tokens=tokenizer.tokenize(review)\n",
        "    pure_tokens=[token.lower() for token in tokens if token.lower() not in stopwords.words('english')]\n",
        "    lemmas_tokens=[lemmatizer.lemmatize(pure_tokens) for pure_tokens in pure_tokens]\n",
        "    \n",
        "    final_tokens=final_tokens.join(lemmas_tokens)\n",
        "    \n",
        "    return final_tokens\n",
        "\n",
        "x_train['cleaned_text']=x_train['Review'].apply(preprocessing)\n",
        "x_train['cleaned_text']\n",
        "\n"
      ],
      "execution_count": 0,
      "outputs": []
    },
    {
      "cell_type": "code",
      "metadata": {
        "id": "MwmrWc8f7Yxk",
        "colab_type": "code",
        "colab": {
          "base_uri": "https://localhost:8080/",
          "height": 134
        },
        "outputId": "f646b5bf-833a-4069-b3d1-9cb09c592de4"
      },
      "source": [
        "#Build the Document Matrix Using TfidfVectorizer,CountVectorizer\n",
        "from sklearn.feature_extraction.text import TfidfVectorizer,CountVectorizer\n",
        "\n",
        "vectorizer=TfidfVectorizer(stop_words='english',use_idf=True)\n",
        "\n",
        "x_train_TfIdf=vectorizer.fit_transform(x_train['Review'])\n",
        "x_test_TfIdf=vectorizer.transform(x_test['Review'])\n",
        "\n",
        "vectorizer.get_feature_names"
      ],
      "execution_count": 4,
      "outputs": [
        {
          "output_type": "execute_result",
          "data": {
            "text/plain": [
              "<bound method CountVectorizer.get_feature_names of TfidfVectorizer(analyzer='word', binary=False, decode_error='strict',\n",
              "                dtype=<class 'numpy.float64'>, encoding='utf-8',\n",
              "                input='content', lowercase=True, max_df=1.0, max_features=None,\n",
              "                min_df=1, ngram_range=(1, 1), norm='l2', preprocessor=None,\n",
              "                smooth_idf=True, stop_words='english', strip_accents=None,\n",
              "                sublinear_tf=False, token_pattern='(?u)\\\\b\\\\w\\\\w+\\\\b',\n",
              "                tokenizer=None, use_idf=True, vocabulary=None)>"
            ]
          },
          "metadata": {
            "tags": []
          },
          "execution_count": 4
        }
      ]
    },
    {
      "cell_type": "code",
      "metadata": {
        "id": "_k27Grzk7Yxp",
        "colab_type": "code",
        "colab": {
          "base_uri": "https://localhost:8080/",
          "height": 874
        },
        "outputId": "c03a0516-9add-46b5-f334-a99c4de1f86e"
      },
      "source": [
        "cv=TfidfVectorizer()\n",
        "print(cv.fit_transform(review['Review']))"
      ],
      "execution_count": 5,
      "outputs": [
        {
          "output_type": "stream",
          "text": [
            "  (0, 1715)\t0.12010700477569902\n",
            "  (0, 450)\t0.15957336272586528\n",
            "  (0, 175)\t0.10221117034173638\n",
            "  (0, 1478)\t0.1480301930054225\n",
            "  (0, 2028)\t0.15957336272586528\n",
            "  (0, 2702)\t0.15957336272586528\n",
            "  (0, 1314)\t0.1480301930054225\n",
            "  (0, 1288)\t0.15957336272586528\n",
            "  (0, 3245)\t0.05835630293863591\n",
            "  (0, 2765)\t0.1480301930054225\n",
            "  (0, 1191)\t0.15957336272586528\n",
            "  (0, 2853)\t0.13348751903726225\n",
            "  (0, 159)\t0.06686523791325975\n",
            "  (0, 1620)\t0.15957336272586528\n",
            "  (0, 696)\t0.15957336272586528\n",
            "  (0, 1197)\t0.0668187445061978\n",
            "  (0, 246)\t0.12390850457740515\n",
            "  (0, 257)\t0.15957336272586528\n",
            "  (0, 318)\t0.09263215588187926\n",
            "  (0, 1341)\t0.07222908813022635\n",
            "  (0, 988)\t0.10628510245636406\n",
            "  (0, 1219)\t0.1167538443098966\n",
            "  (0, 131)\t0.06574431663928758\n",
            "  (0, 1994)\t0.07524822120571494\n",
            "  (0, 2045)\t0.07728748635973035\n",
            "  :\t:\n",
            "  (198, 312)\t0.14688884356876283\n",
            "  (198, 1962)\t0.06530774376032421\n",
            "  (198, 146)\t0.2358080425576224\n",
            "  (198, 1610)\t0.09592667653406346\n",
            "  (198, 2752)\t0.13724395728434696\n",
            "  (198, 662)\t0.12140776005141317\n",
            "  (198, 3243)\t0.16000072556142556\n",
            "  (198, 431)\t0.08558155130975759\n",
            "  (198, 2746)\t0.1401864419057755\n",
            "  (198, 2011)\t0.07981579732955471\n",
            "  (198, 2014)\t0.10650228171601964\n",
            "  (198, 298)\t0.11176287376699727\n",
            "  (198, 1918)\t0.06611571986327644\n",
            "  (198, 2426)\t0.15076204708773167\n",
            "  (198, 2910)\t0.06611571986327644\n",
            "  (198, 1994)\t0.0485833076235693\n",
            "  (198, 1347)\t0.07044559301671377\n",
            "  (198, 2967)\t0.04566033026331857\n",
            "  (198, 3272)\t0.09879265450388837\n",
            "  (198, 2669)\t0.07751745942606798\n",
            "  (198, 1484)\t0.05907450075276018\n",
            "  (198, 1565)\t0.0997466296392412\n",
            "  (198, 3178)\t0.14089118603342754\n",
            "  (198, 2934)\t0.09467407601782818\n",
            "  (198, 2911)\t0.12313614865596041\n"
          ],
          "name": "stdout"
        }
      ]
    },
    {
      "cell_type": "code",
      "metadata": {
        "id": "1wQ4XEu_7Yxs",
        "colab_type": "code",
        "colab": {}
      },
      "source": [
        "#build a navie bayes classifier model\n",
        "from sklearn.metrics import confusion_matrix,roc_auc_score,roc_curve,f1_score,accuracy_score,precision_score,recall_score\n",
        "import matplotlib.pyplot as plt\n"
      ],
      "execution_count": 0,
      "outputs": []
    },
    {
      "cell_type": "code",
      "metadata": {
        "id": "DHBf_AEf7Yyr",
        "colab_type": "code",
        "colab": {
          "base_uri": "https://localhost:8080/",
          "height": 50
        },
        "outputId": "5e7e70de-3e5c-4809-b73e-c8fee112e386"
      },
      "source": [
        "#Build a DecisionTree\n",
        "from sklearn.tree import DecisionTreeClassifier\n",
        "decision=DecisionTreeClassifier()\n",
        "decision.fit(x_train_TfIdf,y_train)\n",
        "y_pred_dec=decision.predict(x_test_TfIdf)\n",
        "y_pred_dec"
      ],
      "execution_count": 8,
      "outputs": [
        {
          "output_type": "execute_result",
          "data": {
            "text/plain": [
              "array([1, 0, 1, 1, 0, 1, 1, 0, 0, 1, 0, 1, 0, 0, 1, 1, 1, 1, 1, 1, 1, 0,\n",
              "       1, 1, 1, 1, 0, 1, 0, 1, 0, 1, 1, 1, 1, 1, 0, 1, 1, 0])"
            ]
          },
          "metadata": {
            "tags": []
          },
          "execution_count": 8
        }
      ]
    },
    {
      "cell_type": "code",
      "metadata": {
        "id": "Q0S7j-3L7Yy4",
        "colab_type": "code",
        "colab": {
          "base_uri": "https://localhost:8080/",
          "height": 50
        },
        "outputId": "1535e443-c156-405f-e1ef-744b504c4a43"
      },
      "source": [
        "deccm=confusion_matrix(y_test,y_pred_dec)\n",
        "deccm"
      ],
      "execution_count": 9,
      "outputs": [
        {
          "output_type": "execute_result",
          "data": {
            "text/plain": [
              "array([[ 8,  7],\n",
              "       [ 5, 20]])"
            ]
          },
          "metadata": {
            "tags": []
          },
          "execution_count": 9
        }
      ]
    },
    {
      "cell_type": "code",
      "metadata": {
        "id": "wbBgHjMz7Yy9",
        "colab_type": "code",
        "colab": {
          "base_uri": "https://localhost:8080/",
          "height": 349
        },
        "outputId": "97c8716d-623b-48ac-9298-e34dfdf7bcdf"
      },
      "source": [
        "import seaborn as sns\n",
        "sns.heatmap(deccm,annot=True)\n",
        "plt.xlabel('Predict')\n",
        "plt.ylabel('Actual')\n",
        "plt.title('Confusion Matrix')\n",
        "plt.show()"
      ],
      "execution_count": 11,
      "outputs": [
        {
          "output_type": "stream",
          "text": [
            "/usr/local/lib/python3.6/dist-packages/statsmodels/tools/_testing.py:19: FutureWarning: pandas.util.testing is deprecated. Use the functions in the public API at pandas.testing instead.\n",
            "  import pandas.util.testing as tm\n"
          ],
          "name": "stderr"
        },
        {
          "output_type": "display_data",
          "data": {
            "image/png": "[encoded data removed]",
            "text/plain": [
              "<Figure size 432x288 with 2 Axes>"
            ]
          },
          "metadata": {
            "tags": [],
            "needs_background": "light"
          }
        }
      ]
    },
    {
      "cell_type": "code",
      "metadata": {
        "id": "cj2MFT2z7YzC",
        "colab_type": "code",
        "colab": {
          "base_uri": "https://localhost:8080/",
          "height": 34
        },
        "outputId": "9c7c3056-1234-486d-8915-495cdc2156d5"
      },
      "source": [
        "dt=accuracy_score(y_test,y_pred_dec)\n",
        "dt"
      ],
      "execution_count": 12,
      "outputs": [
        {
          "output_type": "execute_result",
          "data": {
            "text/plain": [
              "0.7"
            ]
          },
          "metadata": {
            "tags": []
          },
          "execution_count": 12
        }
      ]
    },
    {
      "cell_type": "code",
      "metadata": {
        "id": "VR0xhPWn7YzR",
        "colab_type": "code",
        "colab": {
          "base_uri": "https://localhost:8080/",
          "height": 50
        },
        "outputId": "fcd44a5b-affb-49c8-ee32-785b5988e17f"
      },
      "source": [
        "from sklearn.ensemble import RandomForestClassifier\n",
        "random=RandomForestClassifier(oob_score=True)\n",
        "random.fit(x_train_TfIdf,y_train)\n",
        "y_pred_random=random.predict(x_test_TfIdf)\n",
        "y_pred_random"
      ],
      "execution_count": 14,
      "outputs": [
        {
          "output_type": "execute_result",
          "data": {
            "text/plain": [
              "array([1, 1, 1, 1, 0, 1, 1, 1, 1, 1, 1, 1, 0, 1, 0, 1, 1, 1, 1, 1, 1, 1,\n",
              "       1, 1, 1, 1, 0, 1, 1, 1, 0, 1, 1, 1, 1, 1, 1, 1, 1, 1])"
            ]
          },
          "metadata": {
            "tags": []
          },
          "execution_count": 14
        }
      ]
    },
    {
      "cell_type": "code",
      "metadata": {
        "id": "28WvGX6u7Yze",
        "colab_type": "code",
        "colab": {
          "base_uri": "https://localhost:8080/",
          "height": 50
        },
        "outputId": "6d5437e9-1aab-4dff-f6c2-9dc692b10cbc"
      },
      "source": [
        "rfcm=confusion_matrix(y_test,y_pred_random)\n",
        "rfcm"
      ],
      "execution_count": 15,
      "outputs": [
        {
          "output_type": "execute_result",
          "data": {
            "text/plain": [
              "array([[ 5, 10],\n",
              "       [ 0, 25]])"
            ]
          },
          "metadata": {
            "tags": []
          },
          "execution_count": 15
        }
      ]
    },
    {
      "cell_type": "code",
      "metadata": {
        "id": "TQypM-GP7Yzj",
        "colab_type": "code",
        "colab": {
          "base_uri": "https://localhost:8080/",
          "height": 295
        },
        "outputId": "26950cc9-c96a-4c2d-ad82-81d276df16f0"
      },
      "source": [
        "sns.heatmap(rfcm,annot=True)\n",
        "plt.xlabel('Predict')\n",
        "plt.ylabel('Actual')\n",
        "plt.title('Confusion Matrix')\n",
        "plt.show()"
      ],
      "execution_count": 16,
      "outputs": [
        {
          "output_type": "display_data",
          "data": {
            "image/png": "[encoded data removed]",
            "text/plain": [
              "<Figure size 432x288 with 2 Axes>"
            ]
          },
          "metadata": {
            "tags": [],
            "needs_background": "light"
          }
        }
      ]
    },
    {
      "cell_type": "code",
      "metadata": {
        "id": "1q80W0jR7Yzm",
        "colab_type": "code",
        "colab": {
          "base_uri": "https://localhost:8080/",
          "height": 34
        },
        "outputId": "5dd256c8-7062-4ff2-ede3-e1b69aa5143a"
      },
      "source": [
        "rf=accuracy_score(y_test,y_pred_random)\n",
        "rf"
      ],
      "execution_count": 17,
      "outputs": [
        {
          "output_type": "execute_result",
          "data": {
            "text/plain": [
              "0.75"
            ]
          },
          "metadata": {
            "tags": []
          },
          "execution_count": 17
        }
      ]
    },
    {
      "cell_type": "code",
      "metadata": {
        "id": "5kLxfCQj7Y0Z",
        "colab_type": "code",
        "colab": {
          "base_uri": "https://localhost:8080/",
          "height": 295
        },
        "outputId": "9ae7df64-e63f-45c9-a2f0-c8f314898ef3"
      },
      "source": [
        "#visualizing the accuracy score for models\n",
        "\n",
        "check=[\"DecisionTree\",\"RandomForest\"]\n",
        "overall_accuracy=[dt,rf]\n",
        "\n",
        "sns.barplot(x=check,y=overall_accuracy)\n",
        "plt.xlabel('supervisied Learning Models')\n",
        "plt.ylabel('Accuracy')\n",
        "plt.title('Supervisied Learning vs Accuracy')\n",
        "plt.show()\n"
      ],
      "execution_count": 18,
      "outputs": [
        {
          "output_type": "display_data",
          "data": {
            "image/png": "[encoded data removed]",
            "text/plain": [
              "<Figure size 432x288 with 1 Axes>"
            ]
          },
          "metadata": {
            "tags": [],
            "needs_background": "light"
          }
        }
      ]
    },
    {
      "cell_type": "markdown",
      "metadata": {
        "id": "fQ9vgzzm-kFY",
        "colab_type": "text"
      },
      "source": [
        "Для моего набора данных модель случайного леса работает лучше.\n"
      ]
    },
    {
      "cell_type": "code",
      "metadata": {
        "id": "9jFu_SWC-gT7",
        "colab_type": "code",
        "colab": {}
      },
      "source": [
        ""
      ],
      "execution_count": 0,
      "outputs": []
    }
  ]
}